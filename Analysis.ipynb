{
 "cells": [
  {
   "cell_type": "markdown",
   "metadata": {},
   "source": [
    "# Wrangling\n"
   ]
  },
  {
   "cell_type": "code",
   "execution_count": 6,
   "metadata": {
    "collapsed": true
   },
   "outputs": [],
   "source": [
    "import pandas as pd"
   ]
  },
  {
   "cell_type": "code",
   "execution_count": 2,
   "metadata": {
    "collapsed": false
   },
   "outputs": [
    {
     "data": {
      "text/html": [
       "<div>\n",
       "<table border=\"1\" class=\"dataframe\">\n",
       "  <thead>\n",
       "    <tr style=\"text-align: right;\">\n",
       "      <th></th>\n",
       "      <th>Institution</th>\n",
       "      <th>Title</th>\n",
       "      <th>Annual Salary</th>\n",
       "      <th>APPT FTR BASIS</th>\n",
       "      <th>APPT FRACTION</th>\n",
       "      <th>AMOUNT OF SALARY PAID FROM GENERAL FUND</th>\n",
       "      <th>%</th>\n",
       "      <th>FTE</th>\n",
       "      <th>Time</th>\n",
       "      <th>PAY_FRCTN</th>\n",
       "      <th>Last Name</th>\n",
       "      <th>First Name</th>\n",
       "      <th>Department</th>\n",
       "      <th>FT/PT</th>\n",
       "      <th>Contract Length</th>\n",
       "      <th>Degree</th>\n",
       "      <th>Highest Education Level</th>\n",
       "      <th>Type</th>\n",
       "      <th>Effective Date</th>\n",
       "      <th>Hire Date</th>\n",
       "    </tr>\n",
       "  </thead>\n",
       "  <tbody>\n",
       "    <tr>\n",
       "      <th>0</th>\n",
       "      <td>ALBANY</td>\n",
       "      <td>Postdoctoral Associate</td>\n",
       "      <td>$35,000.00</td>\n",
       "      <td>NaN</td>\n",
       "      <td>NaN</td>\n",
       "      <td>NaN</td>\n",
       "      <td>NaN</td>\n",
       "      <td>NaN</td>\n",
       "      <td>NaN</td>\n",
       "      <td>NaN</td>\n",
       "      <td>NaN</td>\n",
       "      <td>NaN</td>\n",
       "      <td>NaN</td>\n",
       "      <td>NaN</td>\n",
       "      <td>NaN</td>\n",
       "      <td>NaN</td>\n",
       "      <td>NaN</td>\n",
       "      <td>NaN</td>\n",
       "      <td>NaN</td>\n",
       "      <td>NaN</td>\n",
       "    </tr>\n",
       "    <tr>\n",
       "      <th>1</th>\n",
       "      <td>ALBANY</td>\n",
       "      <td>Postdoctoral Associate</td>\n",
       "      <td>$35,901.32</td>\n",
       "      <td>NaN</td>\n",
       "      <td>NaN</td>\n",
       "      <td>NaN</td>\n",
       "      <td>NaN</td>\n",
       "      <td>NaN</td>\n",
       "      <td>NaN</td>\n",
       "      <td>NaN</td>\n",
       "      <td>NaN</td>\n",
       "      <td>NaN</td>\n",
       "      <td>NaN</td>\n",
       "      <td>NaN</td>\n",
       "      <td>NaN</td>\n",
       "      <td>NaN</td>\n",
       "      <td>NaN</td>\n",
       "      <td>NaN</td>\n",
       "      <td>NaN</td>\n",
       "      <td>NaN</td>\n",
       "    </tr>\n",
       "    <tr>\n",
       "      <th>2</th>\n",
       "      <td>ALBANY</td>\n",
       "      <td>Postdoctoral Associate</td>\n",
       "      <td>$36,000.00</td>\n",
       "      <td>NaN</td>\n",
       "      <td>NaN</td>\n",
       "      <td>NaN</td>\n",
       "      <td>NaN</td>\n",
       "      <td>NaN</td>\n",
       "      <td>NaN</td>\n",
       "      <td>NaN</td>\n",
       "      <td>NaN</td>\n",
       "      <td>NaN</td>\n",
       "      <td>NaN</td>\n",
       "      <td>NaN</td>\n",
       "      <td>NaN</td>\n",
       "      <td>NaN</td>\n",
       "      <td>NaN</td>\n",
       "      <td>NaN</td>\n",
       "      <td>NaN</td>\n",
       "      <td>NaN</td>\n",
       "    </tr>\n",
       "    <tr>\n",
       "      <th>3</th>\n",
       "      <td>ALBANY</td>\n",
       "      <td>Postdoctoral Associate</td>\n",
       "      <td>$36,000.00</td>\n",
       "      <td>NaN</td>\n",
       "      <td>NaN</td>\n",
       "      <td>NaN</td>\n",
       "      <td>NaN</td>\n",
       "      <td>NaN</td>\n",
       "      <td>NaN</td>\n",
       "      <td>NaN</td>\n",
       "      <td>NaN</td>\n",
       "      <td>NaN</td>\n",
       "      <td>NaN</td>\n",
       "      <td>NaN</td>\n",
       "      <td>NaN</td>\n",
       "      <td>NaN</td>\n",
       "      <td>NaN</td>\n",
       "      <td>NaN</td>\n",
       "      <td>NaN</td>\n",
       "      <td>NaN</td>\n",
       "    </tr>\n",
       "    <tr>\n",
       "      <th>4</th>\n",
       "      <td>ALBANY</td>\n",
       "      <td>Postdoctoral Associate</td>\n",
       "      <td>$36,000.00</td>\n",
       "      <td>NaN</td>\n",
       "      <td>NaN</td>\n",
       "      <td>NaN</td>\n",
       "      <td>NaN</td>\n",
       "      <td>NaN</td>\n",
       "      <td>NaN</td>\n",
       "      <td>NaN</td>\n",
       "      <td>NaN</td>\n",
       "      <td>NaN</td>\n",
       "      <td>NaN</td>\n",
       "      <td>NaN</td>\n",
       "      <td>NaN</td>\n",
       "      <td>NaN</td>\n",
       "      <td>NaN</td>\n",
       "      <td>NaN</td>\n",
       "      <td>NaN</td>\n",
       "      <td>NaN</td>\n",
       "    </tr>\n",
       "  </tbody>\n",
       "</table>\n",
       "</div>"
      ],
      "text/plain": [
       "  Institution                   Title Annual Salary APPT FTR BASIS  \\\n",
       "0      ALBANY  Postdoctoral Associate    $35,000.00            NaN   \n",
       "1      ALBANY  Postdoctoral Associate    $35,901.32            NaN   \n",
       "2      ALBANY  Postdoctoral Associate    $36,000.00            NaN   \n",
       "3      ALBANY  Postdoctoral Associate    $36,000.00            NaN   \n",
       "4      ALBANY  Postdoctoral Associate    $36,000.00            NaN   \n",
       "\n",
       "   APPT FRACTION AMOUNT OF SALARY PAID FROM GENERAL FUND   %  FTE  Time  \\\n",
       "0            NaN                                     NaN NaN  NaN   NaN   \n",
       "1            NaN                                     NaN NaN  NaN   NaN   \n",
       "2            NaN                                     NaN NaN  NaN   NaN   \n",
       "3            NaN                                     NaN NaN  NaN   NaN   \n",
       "4            NaN                                     NaN NaN  NaN   NaN   \n",
       "\n",
       "   PAY_FRCTN Last Name First Name Department FT/PT Contract Length Degree  \\\n",
       "0        NaN       NaN        NaN        NaN   NaN             NaN    NaN   \n",
       "1        NaN       NaN        NaN        NaN   NaN             NaN    NaN   \n",
       "2        NaN       NaN        NaN        NaN   NaN             NaN    NaN   \n",
       "3        NaN       NaN        NaN        NaN   NaN             NaN    NaN   \n",
       "4        NaN       NaN        NaN        NaN   NaN             NaN    NaN   \n",
       "\n",
       "  Highest Education Level Type Effective Date Hire Date  \n",
       "0                     NaN  NaN            NaN       NaN  \n",
       "1                     NaN  NaN            NaN       NaN  \n",
       "2                     NaN  NaN            NaN       NaN  \n",
       "3                     NaN  NaN            NaN       NaN  \n",
       "4                     NaN  NaN            NaN       NaN  "
      ]
     },
     "execution_count": 2,
     "metadata": {},
     "output_type": "execute_result"
    }
   ],
   "source": [
    "d = pd.read_csv(\"/Users/NikiAthanasiadou/FoR/Info-Data/Salaries/Postdoc_salary_data_Nov17.csv\")\n",
    "#d.fillna(value='None',inplace=True)\n",
    "d.head()"
   ]
  },
  {
   "cell_type": "markdown",
   "metadata": {},
   "source": [
    "## 1. Ethnicity and gender"
   ]
  },
  {
   "cell_type": "code",
   "execution_count": 3,
   "metadata": {
    "collapsed": false
   },
   "outputs": [],
   "source": [
    "#Create the two new columns (sex and ethnicity) and fill them with True/False depending on the presence of last/first name\n",
    "d[\"Ethnea\"] = d[\"Last Name\"].notnull()\n",
    "d[\"Genni\"] = d[\"First Name\"].notnull()"
   ]
  },
  {
   "cell_type": "code",
   "execution_count": 4,
   "metadata": {
    "collapsed": false
   },
   "outputs": [],
   "source": [
    "from urllib.request import urlopen\n",
    "import ast"
   ]
  },
  {
   "cell_type": "code",
   "execution_count": 5,
   "metadata": {
    "collapsed": false
   },
   "outputs": [],
   "source": [
    "#Set up querry\n",
    "for i in range(len(d)):\n",
    "    url = \"http://abel.lis.illinois.edu/cgi-bin/ethnea/search.py?Fname=FIRSTNAME&Lname=LASTNAME&format=json\"\n",
    "    if d[\"Genni\"][i] == True or d[\"Ethnea\"][i] == True:\n",
    "        if d[\"Genni\"][i] == True:\n",
    "            fname = d[\"First Name\"][i]\n",
    "            if (' ' in fname) == True:\n",
    "                fname = fname.split()\n",
    "                fname = \"%20\".join(fname)\n",
    "        else:\n",
    "            fname = \"\"\n",
    "        if d[\"Ethnea\"][i] == True:\n",
    "            lname = d[\"Last Name\"][i]\n",
    "            if (' ' in lname) == True:\n",
    "                lname = lname.split()\n",
    "                lname = \"%20\".join(lname)\n",
    "        else:\n",
    "            lname = \"\"\n",
    "        url = url.replace('FIRSTNAME',fname).replace('LASTNAME',lname)\n",
    "#Perform querry\n",
    "        data = ast.literal_eval(urlopen(url).read().rstrip().decode('UTF-8'))\n",
    "        d.loc[i, \"Ethnea\"] = data['Ethnea']\n",
    "        d.loc[i, \"Genni\"] = data['Genni']"
   ]
  },
  {
   "cell_type": "markdown",
   "metadata": {},
   "source": [
    "### 1a. Ethnicity groupings"
   ]
  },
  {
   "cell_type": "markdown",
   "metadata": {},
   "source": [
    "## 2. Salary annualization"
   ]
  },
  {
   "cell_type": "code",
   "execution_count": 6,
   "metadata": {
    "collapsed": true
   },
   "outputs": [],
   "source": [
    "import math"
   ]
  },
  {
   "cell_type": "code",
   "execution_count": 7,
   "metadata": {
    "collapsed": false
   },
   "outputs": [],
   "source": [
    "d[\"AdjSalary\"] = 1\n",
    "for i in range(len(d)):\n",
    "    d.loc[i,\"AdjSalary\"] = d[\"Annual Salary\"][i].replace('$',\"\").replace(',',\"\").replace('*',\"\")\n",
    "    frq = 1\n",
    "    if math.isnan(d[\"%\"][i]) == False:\n",
    "        frq = float(d[\"%\"][i])\n",
    "    if math.isnan(d[\"FTE\"][i]) == False:\n",
    "        frq = float(d[\"FTE\"][i])\n",
    "    if math.isnan(d[\"PAY_FRCTN\"][i]) == False:\n",
    "        frq = float(d[\"PAY_FRCTN\"][i])\n",
    "    if frq > 1:\n",
    "        d.loc[i,\"AdjSalary\"] = float(d.loc[i,\"AdjSalary\"]) / (frq/100)\n",
    "    if frq <= 1:\n",
    "        d.loc[i,\"AdjSalary\"] = float(d.loc[i,\"AdjSalary\"]) / frq"
   ]
  },
  {
   "cell_type": "markdown",
   "metadata": {},
   "source": [
    "## 3. Total number of postdocs\n"
   ]
  },
  {
   "cell_type": "code",
   "execution_count": 8,
   "metadata": {
    "collapsed": true
   },
   "outputs": [],
   "source": [
    "d[\"PostdocNum\"] = 0.1\n",
    "univ = list(set(d[\"Institution\"]))\n",
    "for i in range(len(univ)):\n",
    "    num = sum([1 for j in list(d[\"Institution\"]) if j==univ[i]])\n",
    "    ind = d.loc[d[\"Institution\"] == univ[i]].index\n",
    "    d.loc[ind, \"PostdocNum\"] = num"
   ]
  },
  {
   "cell_type": "markdown",
   "metadata": {},
   "source": [
    "## 4. Postdoc titles"
   ]
  },
  {
   "cell_type": "code",
   "execution_count": 88,
   "metadata": {
    "collapsed": true
   },
   "outputs": [],
   "source": [
    "import re"
   ]
  },
  {
   "cell_type": "code",
   "execution_count": 17,
   "metadata": {
    "collapsed": true
   },
   "outputs": [],
   "source": [
    "#Turn 91 different titles into a handfull of defining words\n",
    "words = {'Fellow':[\"fellow\"],\n",
    "        'Associate': [\"asso\", \"aso\"],\n",
    "        'Researcher' : [\"res\",\"not_resident\"],\n",
    "         'Scholar' : [\"scholar\"],\n",
    "         'Intern' : [\"intern\"],\n",
    "         'Trainee' : [\"trainee\"],\n",
    "         'Teaching' : [\"teach\"],\n",
    "         'Senior' : [\"senior\", \"sr\"],\n",
    "         'Assistant' : [\"asst\"],\n",
    "         'Clinical' : [\"clinical\"], \n",
    "        'Assistant' : [\"asst\", \"assistant\"],\n",
    "        'Faculty' : [\"fac\"]}\n",
    "\n",
    "for word in words.keys():\n",
    "    d[word] = 0"
   ]
  },
  {
   "cell_type": "code",
   "execution_count": 18,
   "metadata": {
    "collapsed": true
   },
   "outputs": [],
   "source": [
    "for i in range(len(d)):\n",
    "    target = d.loc[i,\"Title\"].lower()\n",
    "    for word in words.keys():\n",
    "        search_result = 0\n",
    "        if len(words[word]) == 1:\n",
    "            search_result = len(re.findall(words[word][0], target))\n",
    "        if len(words[word]) > 1:\n",
    "            if \"not_\" in words[word][1]:\n",
    "                word1 = re.sub(\"not_\",\"\",words[word][1])\n",
    "                search_result = len(re.findall(words[word][0], target)) - len(re.findall(word1, target))\n",
    "            else:\n",
    "                search_result = len(re.findall(words[word][0], target)) + len(re.findall(words[word][1], target))\n",
    "        if search_result>0:\n",
    "            d.loc[i, word] = 1"
   ]
  },
  {
   "cell_type": "code",
   "execution_count": 19,
   "metadata": {
    "collapsed": false
   },
   "outputs": [
    {
     "data": {
      "text/html": [
       "<div>\n",
       "<table border=\"1\" class=\"dataframe\">\n",
       "  <thead>\n",
       "    <tr style=\"text-align: right;\">\n",
       "      <th></th>\n",
       "      <th>Institution</th>\n",
       "      <th>Title</th>\n",
       "      <th>Annual Salary</th>\n",
       "      <th>APPT FTR BASIS</th>\n",
       "      <th>APPT FRACTION</th>\n",
       "      <th>AMOUNT OF SALARY PAID FROM GENERAL FUND</th>\n",
       "      <th>%</th>\n",
       "      <th>FTE</th>\n",
       "      <th>Time</th>\n",
       "      <th>PAY_FRCTN</th>\n",
       "      <th>...</th>\n",
       "      <th>Associate</th>\n",
       "      <th>Scholar</th>\n",
       "      <th>Trainee</th>\n",
       "      <th>Clinical</th>\n",
       "      <th>Assistant</th>\n",
       "      <th>Researcher</th>\n",
       "      <th>Intern</th>\n",
       "      <th>Professor</th>\n",
       "      <th>Faculty</th>\n",
       "      <th>Senior</th>\n",
       "    </tr>\n",
       "  </thead>\n",
       "  <tbody>\n",
       "    <tr>\n",
       "      <th>0</th>\n",
       "      <td>ALBANY</td>\n",
       "      <td>Postdoctoral Associate</td>\n",
       "      <td>$35,000.00</td>\n",
       "      <td>NaN</td>\n",
       "      <td>NaN</td>\n",
       "      <td>NaN</td>\n",
       "      <td>NaN</td>\n",
       "      <td>NaN</td>\n",
       "      <td>NaN</td>\n",
       "      <td>NaN</td>\n",
       "      <td>...</td>\n",
       "      <td>1</td>\n",
       "      <td>0</td>\n",
       "      <td>0</td>\n",
       "      <td>0</td>\n",
       "      <td>0</td>\n",
       "      <td>0</td>\n",
       "      <td>0</td>\n",
       "      <td>0</td>\n",
       "      <td>0</td>\n",
       "      <td>0</td>\n",
       "    </tr>\n",
       "    <tr>\n",
       "      <th>1</th>\n",
       "      <td>ALBANY</td>\n",
       "      <td>Postdoctoral Associate</td>\n",
       "      <td>$35,901.32</td>\n",
       "      <td>NaN</td>\n",
       "      <td>NaN</td>\n",
       "      <td>NaN</td>\n",
       "      <td>NaN</td>\n",
       "      <td>NaN</td>\n",
       "      <td>NaN</td>\n",
       "      <td>NaN</td>\n",
       "      <td>...</td>\n",
       "      <td>1</td>\n",
       "      <td>0</td>\n",
       "      <td>0</td>\n",
       "      <td>0</td>\n",
       "      <td>0</td>\n",
       "      <td>0</td>\n",
       "      <td>0</td>\n",
       "      <td>0</td>\n",
       "      <td>0</td>\n",
       "      <td>0</td>\n",
       "    </tr>\n",
       "    <tr>\n",
       "      <th>2</th>\n",
       "      <td>ALBANY</td>\n",
       "      <td>Postdoctoral Associate</td>\n",
       "      <td>$36,000.00</td>\n",
       "      <td>NaN</td>\n",
       "      <td>NaN</td>\n",
       "      <td>NaN</td>\n",
       "      <td>NaN</td>\n",
       "      <td>NaN</td>\n",
       "      <td>NaN</td>\n",
       "      <td>NaN</td>\n",
       "      <td>...</td>\n",
       "      <td>1</td>\n",
       "      <td>0</td>\n",
       "      <td>0</td>\n",
       "      <td>0</td>\n",
       "      <td>0</td>\n",
       "      <td>0</td>\n",
       "      <td>0</td>\n",
       "      <td>0</td>\n",
       "      <td>0</td>\n",
       "      <td>0</td>\n",
       "    </tr>\n",
       "    <tr>\n",
       "      <th>3</th>\n",
       "      <td>ALBANY</td>\n",
       "      <td>Postdoctoral Associate</td>\n",
       "      <td>$36,000.00</td>\n",
       "      <td>NaN</td>\n",
       "      <td>NaN</td>\n",
       "      <td>NaN</td>\n",
       "      <td>NaN</td>\n",
       "      <td>NaN</td>\n",
       "      <td>NaN</td>\n",
       "      <td>NaN</td>\n",
       "      <td>...</td>\n",
       "      <td>1</td>\n",
       "      <td>0</td>\n",
       "      <td>0</td>\n",
       "      <td>0</td>\n",
       "      <td>0</td>\n",
       "      <td>0</td>\n",
       "      <td>0</td>\n",
       "      <td>0</td>\n",
       "      <td>0</td>\n",
       "      <td>0</td>\n",
       "    </tr>\n",
       "    <tr>\n",
       "      <th>4</th>\n",
       "      <td>ALBANY</td>\n",
       "      <td>Postdoctoral Associate</td>\n",
       "      <td>$36,000.00</td>\n",
       "      <td>NaN</td>\n",
       "      <td>NaN</td>\n",
       "      <td>NaN</td>\n",
       "      <td>NaN</td>\n",
       "      <td>NaN</td>\n",
       "      <td>NaN</td>\n",
       "      <td>NaN</td>\n",
       "      <td>...</td>\n",
       "      <td>1</td>\n",
       "      <td>0</td>\n",
       "      <td>0</td>\n",
       "      <td>0</td>\n",
       "      <td>0</td>\n",
       "      <td>0</td>\n",
       "      <td>0</td>\n",
       "      <td>0</td>\n",
       "      <td>0</td>\n",
       "      <td>0</td>\n",
       "    </tr>\n",
       "  </tbody>\n",
       "</table>\n",
       "<p>5 rows × 36 columns</p>\n",
       "</div>"
      ],
      "text/plain": [
       "  Institution                   Title Annual Salary APPT FTR BASIS  \\\n",
       "0      ALBANY  Postdoctoral Associate    $35,000.00            NaN   \n",
       "1      ALBANY  Postdoctoral Associate    $35,901.32            NaN   \n",
       "2      ALBANY  Postdoctoral Associate    $36,000.00            NaN   \n",
       "3      ALBANY  Postdoctoral Associate    $36,000.00            NaN   \n",
       "4      ALBANY  Postdoctoral Associate    $36,000.00            NaN   \n",
       "\n",
       "   APPT FRACTION AMOUNT OF SALARY PAID FROM GENERAL FUND   %  FTE  Time  \\\n",
       "0            NaN                                     NaN NaN  NaN   NaN   \n",
       "1            NaN                                     NaN NaN  NaN   NaN   \n",
       "2            NaN                                     NaN NaN  NaN   NaN   \n",
       "3            NaN                                     NaN NaN  NaN   NaN   \n",
       "4            NaN                                     NaN NaN  NaN   NaN   \n",
       "\n",
       "   PAY_FRCTN  ...   Associate Scholar Trainee Clinical Assistant Researcher  \\\n",
       "0        NaN  ...           1       0       0        0         0          0   \n",
       "1        NaN  ...           1       0       0        0         0          0   \n",
       "2        NaN  ...           1       0       0        0         0          0   \n",
       "3        NaN  ...           1       0       0        0         0          0   \n",
       "4        NaN  ...           1       0       0        0         0          0   \n",
       "\n",
       "  Intern Professor Faculty Senior  \n",
       "0      0         0       0      0  \n",
       "1      0         0       0      0  \n",
       "2      0         0       0      0  \n",
       "3      0         0       0      0  \n",
       "4      0         0       0      0  \n",
       "\n",
       "[5 rows x 36 columns]"
      ]
     },
     "execution_count": 19,
     "metadata": {},
     "output_type": "execute_result"
    }
   ],
   "source": [
    "d.head()"
   ]
  },
  {
   "cell_type": "markdown",
   "metadata": {},
   "source": [
    "## 5. Postdoc location"
   ]
  },
  {
   "cell_type": "code",
   "execution_count": 3,
   "metadata": {
    "collapsed": true
   },
   "outputs": [],
   "source": [
    "univ_info = pd.read_csv(\"/Users/NikiAthanasiadou/FoR/Info-Data/Salaries/Univ_info.csv\") "
   ]
  },
  {
   "cell_type": "code",
   "execution_count": 6,
   "metadata": {
    "collapsed": false
   },
   "outputs": [],
   "source": [
    "d[\"Metro_code\"] = 0\n",
    "d[\"pct_urban\"] = 0\n",
    "d[\"State\"] = \"\"\n",
    "for i in range(len(d)):\n",
    "    for j in range(len(univ_info)):\n",
    "        if univ_info.loc[j, \"University_FoiA\"].strip() == d.loc[i, \"Institution\"].strip():\n",
    "            d.loc[i, \"Metro_code\"] = univ_info.loc[j, \"metro code_13\"]\n",
    "            d.loc[i, \"pct_urban\"] = univ_info.loc[j, \"pct_urban_10\"]\n",
    "            d.loc[i, \"State\"] = univ_info.iloc[j, 3]"
   ]
  },
  {
   "cell_type": "code",
   "execution_count": 5,
   "metadata": {
    "collapsed": false
   },
   "outputs": [
    {
     "data": {
      "text/plain": [
       "7906"
      ]
     },
     "execution_count": 5,
     "metadata": {},
     "output_type": "execute_result"
    }
   ],
   "source": []
  },
  {
   "cell_type": "markdown",
   "metadata": {},
   "source": [
    "## 6. Postdoc-to-student ratio\n"
   ]
  },
  {
   "cell_type": "code",
   "execution_count": 25,
   "metadata": {
    "collapsed": true
   },
   "outputs": [],
   "source": [
    "d[\"no_students\"] = 0\n",
    "for i in range(len(d)):\n",
    "    for j in range(len(univ_info)):\n",
    "        if univ_info.loc[j, \"University_FoiA\"].strip() == d.loc[i, \"Institution\"].strip():\n",
    "            d.loc[i, \"no_students\"] = univ_info.loc[j, \"no_students_17\"]\n",
    "d[\"postdocs_per_1000stdduents\"] = d[\"PostdocNum\"]/(d[\"no_students\"]/1000)"
   ]
  },
  {
   "cell_type": "markdown",
   "metadata": {},
   "source": [
    "## 7. NIH grants"
   ]
  },
  {
   "cell_type": "code",
   "execution_count": 56,
   "metadata": {
    "collapsed": false
   },
   "outputs": [
    {
     "data": {
      "text/html": [
       "<div>\n",
       "<table border=\"1\" class=\"dataframe\">\n",
       "  <thead>\n",
       "    <tr style=\"text-align: right;\">\n",
       "      <th></th>\n",
       "      <th>University_FoiA</th>\n",
       "      <th>ZIP</th>\n",
       "      <th>County</th>\n",
       "      <th>Unnamed: 3</th>\n",
       "      <th>metro_13</th>\n",
       "      <th>metro code_13</th>\n",
       "      <th>pct_urban_10</th>\n",
       "      <th>no_students_17</th>\n",
       "      <th>2017_NIH</th>\n",
       "      <th>NIH_top</th>\n",
       "    </tr>\n",
       "  </thead>\n",
       "  <tbody>\n",
       "    <tr>\n",
       "      <th>0</th>\n",
       "      <td>UM_ANN-ARBOR</td>\n",
       "      <td>48109.0</td>\n",
       "      <td>Washtenaw</td>\n",
       "      <td>MI</td>\n",
       "      <td>Y</td>\n",
       "      <td>2.0</td>\n",
       "      <td>83.6</td>\n",
       "      <td>43651.0</td>\n",
       "      <td>509085057.0</td>\n",
       "      <td>1.0</td>\n",
       "    </tr>\n",
       "    <tr>\n",
       "      <th>1</th>\n",
       "      <td>University of North Carolina Chapel Hill</td>\n",
       "      <td>27599.0</td>\n",
       "      <td>Orange</td>\n",
       "      <td>NC</td>\n",
       "      <td>Y</td>\n",
       "      <td>2.0</td>\n",
       "      <td>71.5</td>\n",
       "      <td>29084.0</td>\n",
       "      <td>410444710.0</td>\n",
       "      <td>2.0</td>\n",
       "    </tr>\n",
       "    <tr>\n",
       "      <th>2</th>\n",
       "      <td>University of Colorado Denver</td>\n",
       "      <td>80204.0</td>\n",
       "      <td>Denver</td>\n",
       "      <td>CO</td>\n",
       "      <td>Y</td>\n",
       "      <td>1.0</td>\n",
       "      <td>100.0</td>\n",
       "      <td>23671.0</td>\n",
       "      <td>215712348.0</td>\n",
       "      <td>3.0</td>\n",
       "    </tr>\n",
       "    <tr>\n",
       "      <th>3</th>\n",
       "      <td>University of Texas Southwestern</td>\n",
       "      <td>75390.0</td>\n",
       "      <td>Dallas</td>\n",
       "      <td>TX</td>\n",
       "      <td>Y</td>\n",
       "      <td>1.0</td>\n",
       "      <td>99.3</td>\n",
       "      <td>0.0</td>\n",
       "      <td>177844392.0</td>\n",
       "      <td>4.0</td>\n",
       "    </tr>\n",
       "    <tr>\n",
       "      <th>4</th>\n",
       "      <td>The Ohio State University-Main Campus</td>\n",
       "      <td>43210.0</td>\n",
       "      <td>Franklin</td>\n",
       "      <td>OH</td>\n",
       "      <td>Y</td>\n",
       "      <td>1.0</td>\n",
       "      <td>98.6</td>\n",
       "      <td>58663.0</td>\n",
       "      <td>169695210.0</td>\n",
       "      <td>5.0</td>\n",
       "    </tr>\n",
       "  </tbody>\n",
       "</table>\n",
       "</div>"
      ],
      "text/plain": [
       "                              University_FoiA      ZIP     County Unnamed: 3  \\\n",
       "0                                UM_ANN-ARBOR  48109.0  Washtenaw         MI   \n",
       "1    University of North Carolina Chapel Hill  27599.0     Orange         NC   \n",
       "2               University of Colorado Denver  80204.0     Denver         CO   \n",
       "3            University of Texas Southwestern  75390.0     Dallas         TX   \n",
       "4       The Ohio State University-Main Campus  43210.0   Franklin         OH   \n",
       "\n",
       "  metro_13  metro code_13  pct_urban_10  no_students_17     2017_NIH  NIH_top  \n",
       "0        Y            2.0          83.6         43651.0  509085057.0      1.0  \n",
       "1        Y            2.0          71.5         29084.0  410444710.0      2.0  \n",
       "2        Y            1.0         100.0         23671.0  215712348.0      3.0  \n",
       "3        Y            1.0          99.3             0.0  177844392.0      4.0  \n",
       "4        Y            1.0          98.6         58663.0  169695210.0      5.0  "
      ]
     },
     "execution_count": 56,
     "metadata": {},
     "output_type": "execute_result"
    }
   ],
   "source": [
    "univ_info = pd.read_csv(\"/Users/NikiAthanasiadou/FoR/Info-Data/Salaries/Univ_info.csv\") \n",
    "univ_info.head()"
   ]
  },
  {
   "cell_type": "code",
   "execution_count": 68,
   "metadata": {
    "collapsed": false
   },
   "outputs": [],
   "source": [
    "d[\"NIH_grants\"] = \"\"\n",
    "d[\"NIH_order\"] = 0\n",
    "for i in range(len(d)):\n",
    "    for j in range(len(univ_info)):\n",
    "        if univ_info.loc[j, \"University_FoiA\"].strip() == d.loc[i, \"Institution\"].strip():\n",
    "            d.loc[i, \"NIH_grants\"] = univ_info.loc[j, \"2017_NIH\"]\n",
    "            d.loc[i, \"NIH_order\"] = univ_info.loc[j,\"NIH_top\"]"
   ]
  },
  {
   "cell_type": "markdown",
   "metadata": {},
   "source": [
    "## 8. Ethicity words"
   ]
  },
  {
   "cell_type": "code",
   "execution_count": 97,
   "metadata": {
    "collapsed": false
   },
   "outputs": [
    {
     "name": "stdout",
     "output_type": "stream",
     "text": [
      "['ROMANIAN', 'ENGLISH', 'BALTIC', 'HISPANIC', 'DUTCH', 'GERMAN', 'NORDIC', 'INDIAN', 'VIETNAMESE', 'HUNGARIAN', 'JAPANESE', 'ISRAELI', 'SLAV', 'CHINESE', 'TURKISH', 'THAI', 'MONGOLIAN', 'AFRICAN', 'GREEK', 'FRENCH', 'KOREAN', 'ITALIAN', 'CARIBBEAN', 'INDONESIAN', 'ARAB']\n"
     ]
    }
   ],
   "source": [
    "a = list(set(d[\"Ethnea\"]))\n",
    "a.pop(a.index('False'))\n",
    "a.pop(a.index('UNKNOWN'))\n",
    "a.pop(a.index('TOOSHORT'))\n",
    "a = [word.split(\"-\") for word in a]\n",
    "a = list(set([val for sublist in a for val in sublist]))\n",
    "print(a)"
   ]
  },
  {
   "cell_type": "code",
   "execution_count": 98,
   "metadata": {
    "collapsed": true
   },
   "outputs": [],
   "source": [
    "for word in a:\n",
    "    d[word] = 0"
   ]
  },
  {
   "cell_type": "code",
   "execution_count": 99,
   "metadata": {
    "collapsed": false
   },
   "outputs": [],
   "source": [
    "for i in range(len(d)):\n",
    "    target = d.loc[i,\"Ethnea\"]\n",
    "    for word in a:\n",
    "        search_result = 0\n",
    "        search_result = len(re.findall(word, target))\n",
    "        if search_result>0:\n",
    "            d.loc[i, word] = 1"
   ]
  },
  {
   "cell_type": "code",
   "execution_count": 102,
   "metadata": {
    "collapsed": false
   },
   "outputs": [
    {
     "data": {
      "text/plain": [
       "Index(['Unnamed: 0', 'Last Name', 'First Name', 'Ethnea', 'Genni',\n",
       "       'Annual Salary', 'AdjSalary', 'Title', 'Teaching', 'Fellow',\n",
       "       'Associate', 'Scholar', 'Trainee', 'Clinical', 'Assistant',\n",
       "       'Researcher', 'Intern', 'Professor', 'Faculty', 'Senior', 'Institution',\n",
       "       'Department', 'State', 'Metro_code', 'pct_urban', 'PostdocNum',\n",
       "       'no_students', 'postdocs_per_1000stdduents', 'NIH_grants', 'NIH_order',\n",
       "       'ROMANIAN', 'ENGLISH', 'BALTIC', 'HISPANIC', 'DUTCH', 'GERMAN',\n",
       "       'NORDIC', 'INDIAN', 'VIETNAMESE', 'HUNGARIAN', 'JAPANESE', 'ISRAELI',\n",
       "       'SLAV', 'CHINESE', 'TURKISH', 'THAI', 'MONGOLIAN', 'AFRICAN', 'GREEK',\n",
       "       'FRENCH', 'KOREAN', 'ITALIAN', 'CARIBBEAN', 'INDONESIAN', 'ARAB'],\n",
       "      dtype='object')"
      ]
     },
     "execution_count": 102,
     "metadata": {},
     "output_type": "execute_result"
    }
   ],
   "source": [
    "d.columns"
   ]
  },
  {
   "cell_type": "markdown",
   "metadata": {},
   "source": [
    "### (Preserve backup)"
   ]
  },
  {
   "cell_type": "code",
   "execution_count": 71,
   "metadata": {
    "collapsed": true
   },
   "outputs": [],
   "source": [
    "cp = d.copy()"
   ]
  },
  {
   "cell_type": "markdown",
   "metadata": {},
   "source": [
    "### (Save to disk)"
   ]
  },
  {
   "cell_type": "code",
   "execution_count": 7,
   "metadata": {
    "collapsed": false
   },
   "outputs": [],
   "source": [
    "out = d[['Last Name', 'First Name', 'Ethnea', 'Genni', 'Annual Salary', 'AdjSalary', \n",
    "        'Title','Teaching', 'Fellow', 'Associate',\n",
    "       'Scholar', 'Trainee', 'Clinical', 'Assistant', 'Researcher',\n",
    "       'Intern', 'Professor', 'Faculty', 'Senior', 'Institution',  'Department', 'State', 'Metro_code',\n",
    "       'pct_urban', 'PostdocNum','no_students', 'postdocs_per_1000stdduents',\n",
    "       'NIH_grants', 'NIH_order','ROMANIAN', 'ENGLISH', 'BALTIC', 'HISPANIC', 'DUTCH', 'GERMAN',\n",
    "       'NORDIC', 'INDIAN', 'VIETNAMESE', 'HUNGARIAN', 'JAPANESE', 'ISRAELI',\n",
    "       'SLAV', 'CHINESE', 'TURKISH', 'THAI', 'MONGOLIAN', 'AFRICAN', 'GREEK',\n",
    "       'FRENCH', 'KOREAN', 'ITALIAN', 'CARIBBEAN', 'INDONESIAN', 'ARAB']]\n",
    "out.to_csv(\"Postdoc_salary_Working.csv\")"
   ]
  },
  {
   "cell_type": "markdown",
   "metadata": {},
   "source": [
    "### (Load version saved to disk)"
   ]
  },
  {
   "cell_type": "code",
   "execution_count": 1,
   "metadata": {
    "collapsed": true
   },
   "outputs": [],
   "source": [
    "import pandas as pd"
   ]
  },
  {
   "cell_type": "code",
   "execution_count": 2,
   "metadata": {
    "collapsed": false
   },
   "outputs": [
    {
     "data": {
      "text/html": [
       "<div>\n",
       "<table border=\"1\" class=\"dataframe\">\n",
       "  <thead>\n",
       "    <tr style=\"text-align: right;\">\n",
       "      <th></th>\n",
       "      <th>Unnamed: 0</th>\n",
       "      <th>Last Name</th>\n",
       "      <th>First Name</th>\n",
       "      <th>Ethnea</th>\n",
       "      <th>Genni</th>\n",
       "      <th>Annual Salary</th>\n",
       "      <th>AdjSalary</th>\n",
       "      <th>Title</th>\n",
       "      <th>Teaching</th>\n",
       "      <th>Fellow</th>\n",
       "      <th>...</th>\n",
       "      <th>THAI</th>\n",
       "      <th>MONGOLIAN</th>\n",
       "      <th>AFRICAN</th>\n",
       "      <th>GREEK</th>\n",
       "      <th>FRENCH</th>\n",
       "      <th>KOREAN</th>\n",
       "      <th>ITALIAN</th>\n",
       "      <th>CARIBBEAN</th>\n",
       "      <th>INDONESIAN</th>\n",
       "      <th>ARAB</th>\n",
       "    </tr>\n",
       "  </thead>\n",
       "  <tbody>\n",
       "    <tr>\n",
       "      <th>0</th>\n",
       "      <td>0</td>\n",
       "      <td>NaN</td>\n",
       "      <td>NaN</td>\n",
       "      <td>False</td>\n",
       "      <td>False</td>\n",
       "      <td>$35,000.00</td>\n",
       "      <td>35000.00</td>\n",
       "      <td>Postdoctoral Associate</td>\n",
       "      <td>0</td>\n",
       "      <td>0</td>\n",
       "      <td>...</td>\n",
       "      <td>0</td>\n",
       "      <td>0</td>\n",
       "      <td>0</td>\n",
       "      <td>0</td>\n",
       "      <td>0</td>\n",
       "      <td>0</td>\n",
       "      <td>0</td>\n",
       "      <td>0</td>\n",
       "      <td>0</td>\n",
       "      <td>0</td>\n",
       "    </tr>\n",
       "    <tr>\n",
       "      <th>1</th>\n",
       "      <td>1</td>\n",
       "      <td>NaN</td>\n",
       "      <td>NaN</td>\n",
       "      <td>False</td>\n",
       "      <td>False</td>\n",
       "      <td>$35,901.32</td>\n",
       "      <td>35901.32</td>\n",
       "      <td>Postdoctoral Associate</td>\n",
       "      <td>0</td>\n",
       "      <td>0</td>\n",
       "      <td>...</td>\n",
       "      <td>0</td>\n",
       "      <td>0</td>\n",
       "      <td>0</td>\n",
       "      <td>0</td>\n",
       "      <td>0</td>\n",
       "      <td>0</td>\n",
       "      <td>0</td>\n",
       "      <td>0</td>\n",
       "      <td>0</td>\n",
       "      <td>0</td>\n",
       "    </tr>\n",
       "    <tr>\n",
       "      <th>2</th>\n",
       "      <td>2</td>\n",
       "      <td>NaN</td>\n",
       "      <td>NaN</td>\n",
       "      <td>False</td>\n",
       "      <td>False</td>\n",
       "      <td>$36,000.00</td>\n",
       "      <td>36000.00</td>\n",
       "      <td>Postdoctoral Associate</td>\n",
       "      <td>0</td>\n",
       "      <td>0</td>\n",
       "      <td>...</td>\n",
       "      <td>0</td>\n",
       "      <td>0</td>\n",
       "      <td>0</td>\n",
       "      <td>0</td>\n",
       "      <td>0</td>\n",
       "      <td>0</td>\n",
       "      <td>0</td>\n",
       "      <td>0</td>\n",
       "      <td>0</td>\n",
       "      <td>0</td>\n",
       "    </tr>\n",
       "    <tr>\n",
       "      <th>3</th>\n",
       "      <td>3</td>\n",
       "      <td>NaN</td>\n",
       "      <td>NaN</td>\n",
       "      <td>False</td>\n",
       "      <td>False</td>\n",
       "      <td>$36,000.00</td>\n",
       "      <td>36000.00</td>\n",
       "      <td>Postdoctoral Associate</td>\n",
       "      <td>0</td>\n",
       "      <td>0</td>\n",
       "      <td>...</td>\n",
       "      <td>0</td>\n",
       "      <td>0</td>\n",
       "      <td>0</td>\n",
       "      <td>0</td>\n",
       "      <td>0</td>\n",
       "      <td>0</td>\n",
       "      <td>0</td>\n",
       "      <td>0</td>\n",
       "      <td>0</td>\n",
       "      <td>0</td>\n",
       "    </tr>\n",
       "    <tr>\n",
       "      <th>4</th>\n",
       "      <td>4</td>\n",
       "      <td>NaN</td>\n",
       "      <td>NaN</td>\n",
       "      <td>False</td>\n",
       "      <td>False</td>\n",
       "      <td>$36,000.00</td>\n",
       "      <td>36000.00</td>\n",
       "      <td>Postdoctoral Associate</td>\n",
       "      <td>0</td>\n",
       "      <td>0</td>\n",
       "      <td>...</td>\n",
       "      <td>0</td>\n",
       "      <td>0</td>\n",
       "      <td>0</td>\n",
       "      <td>0</td>\n",
       "      <td>0</td>\n",
       "      <td>0</td>\n",
       "      <td>0</td>\n",
       "      <td>0</td>\n",
       "      <td>0</td>\n",
       "      <td>0</td>\n",
       "    </tr>\n",
       "  </tbody>\n",
       "</table>\n",
       "<p>5 rows × 55 columns</p>\n",
       "</div>"
      ],
      "text/plain": [
       "   Unnamed: 0 Last Name First Name Ethnea  Genni Annual Salary  AdjSalary  \\\n",
       "0           0       NaN        NaN  False  False    $35,000.00   35000.00   \n",
       "1           1       NaN        NaN  False  False    $35,901.32   35901.32   \n",
       "2           2       NaN        NaN  False  False    $36,000.00   36000.00   \n",
       "3           3       NaN        NaN  False  False    $36,000.00   36000.00   \n",
       "4           4       NaN        NaN  False  False    $36,000.00   36000.00   \n",
       "\n",
       "                    Title  Teaching  Fellow  ...   THAI  MONGOLIAN  AFRICAN  \\\n",
       "0  Postdoctoral Associate         0       0  ...      0          0        0   \n",
       "1  Postdoctoral Associate         0       0  ...      0          0        0   \n",
       "2  Postdoctoral Associate         0       0  ...      0          0        0   \n",
       "3  Postdoctoral Associate         0       0  ...      0          0        0   \n",
       "4  Postdoctoral Associate         0       0  ...      0          0        0   \n",
       "\n",
       "   GREEK  FRENCH  KOREAN  ITALIAN  CARIBBEAN  INDONESIAN  ARAB  \n",
       "0      0       0       0        0          0           0     0  \n",
       "1      0       0       0        0          0           0     0  \n",
       "2      0       0       0        0          0           0     0  \n",
       "3      0       0       0        0          0           0     0  \n",
       "4      0       0       0        0          0           0     0  \n",
       "\n",
       "[5 rows x 55 columns]"
      ]
     },
     "execution_count": 2,
     "metadata": {},
     "output_type": "execute_result"
    }
   ],
   "source": [
    "d = pd.read_csv(\"/Users/NikiAthanasiadou/FoR/Info-Data/Salaries/Postdoc_salary_Working.csv\")\n",
    "d.head()"
   ]
  },
  {
   "cell_type": "code",
   "execution_count": null,
   "metadata": {
    "collapsed": true
   },
   "outputs": [],
   "source": []
  }
 ],
 "metadata": {
  "anaconda-cloud": {},
  "kernelspec": {
   "display_name": "Python [Py3_env]",
   "language": "python",
   "name": "Python [Py3_env]"
  },
  "language_info": {
   "codemirror_mode": {
    "name": "ipython",
    "version": 3
   },
   "file_extension": ".py",
   "mimetype": "text/x-python",
   "name": "python",
   "nbconvert_exporter": "python",
   "pygments_lexer": "ipython3",
   "version": "3.5.2"
  }
 },
 "nbformat": 4,
 "nbformat_minor": 0
}
