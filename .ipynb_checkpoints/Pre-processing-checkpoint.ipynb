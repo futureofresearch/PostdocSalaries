{
 "cells": [
  {
   "cell_type": "code",
   "execution_count": 60,
   "metadata": {
    "collapsed": true
   },
   "outputs": [],
   "source": [
    "import pandas as pd"
   ]
  },
  {
   "cell_type": "code",
   "execution_count": 72,
   "metadata": {
    "collapsed": false
   },
   "outputs": [
    {
     "data": {
      "text/plain": [
       "['Institution',\n",
       " 'Title',\n",
       " 'Annual Salary',\n",
       " 'FTE',\n",
       " 'APPT FTR BASIS',\n",
       " 'APPT FRACTION',\n",
       " 'AMOUNT OF SALARY PAID FROM GENERAL FUND',\n",
       " '%',\n",
       " 'FTE.1',\n",
       " 'Time',\n",
       " 'PAY_FRCTN',\n",
       " 'Last Name',\n",
       " 'First Names',\n",
       " 'Department',\n",
       " 'FT/PT',\n",
       " 'Contract Length',\n",
       " 'Degree',\n",
       " 'Highest Education Level',\n",
       " 'Type',\n",
       " 'Effective Date',\n",
       " 'Hire Date']"
      ]
     },
     "execution_count": 72,
     "metadata": {},
     "output_type": "execute_result"
    }
   ],
   "source": [
    "d = pd.read_csv(\"Tables/Postdoc_data_2016.csv\", dtype={'Annual Salary':str})\n",
    "list(d.columns.values)"
   ]
  },
  {
   "cell_type": "markdown",
   "metadata": {},
   "source": [
    "## 1. Ethnea"
   ]
  },
  {
   "cell_type": "code",
   "execution_count": 20,
   "metadata": {
    "collapsed": false
   },
   "outputs": [],
   "source": [
    "#Create the two new columns (ethnicity=Ethnea and gender=Genni) and fill them with True/False depending on the presence of last/first name\n",
    "d[\"Ethnea\"] = d[\"Last Name\"].notnull()\n",
    "d[\"Genni\"] = d[\"First Names\"].notnull()"
   ]
  },
  {
   "cell_type": "code",
   "execution_count": 21,
   "metadata": {
    "collapsed": true
   },
   "outputs": [],
   "source": [
    "from urllib.request import urlopen\n",
    "import ast"
   ]
  },
  {
   "cell_type": "code",
   "execution_count": 22,
   "metadata": {
    "collapsed": true
   },
   "outputs": [],
   "source": [
    "#Set up querry\n",
    "for i in range(len(d)):\n",
    "    url = \"http://abel.lis.illinois.edu/cgi-bin/ethnea/search.py?Fname=FIRSTNAME&Lname=LASTNAME&format=json\"\n",
    "    if d[\"Genni\"][i] == True or d[\"Ethnea\"][i] == True:\n",
    "        if d[\"Genni\"][i] == True:\n",
    "            fname = d[\"First Names\"][i]\n",
    "            if (' ' in fname) == True:\n",
    "                fname = fname.split()\n",
    "                fname = \"%20\".join(fname)\n",
    "        else:\n",
    "            fname = \"\"\n",
    "        if d[\"Ethnea\"][i] == True:\n",
    "            lname = d[\"Last Name\"][i]\n",
    "            if (' ' in lname) == True:\n",
    "                lname = lname.split()\n",
    "                lname = \"%20\".join(lname)\n",
    "        else:\n",
    "            lname = \"\"\n",
    "        url = url.replace('FIRSTNAME',fname).replace('LASTNAME',lname)\n",
    "#Perform querry\n",
    "        data = ast.literal_eval(urlopen(url).read().rstrip().decode('UTF-8'))\n",
    "        d.loc[i, \"Ethnea\"] = data['Ethnea']\n",
    "        d.loc[i, \"Genni\"] = data['Genni']"
   ]
  },
  {
   "cell_type": "code",
   "execution_count": 23,
   "metadata": {
    "collapsed": false
   },
   "outputs": [],
   "source": [
    " d.to_csv(\"Tables/Gendered.csv\")"
   ]
  },
  {
   "cell_type": "markdown",
   "metadata": {},
   "source": [
    "## 2. Salary annualization"
   ]
  },
  {
   "cell_type": "code",
   "execution_count": 64,
   "metadata": {
    "collapsed": true
   },
   "outputs": [],
   "source": [
    "import math"
   ]
  },
  {
   "cell_type": "code",
   "execution_count": 79,
   "metadata": {
    "collapsed": false
   },
   "outputs": [],
   "source": [
    "d[\"AdjSalary\"] = str\n",
    "for i in range(len(d)):\n",
    "    d.loc[i,\"AdjSalary\"] = str(d[\"Annual Salary\"][i]).replace('$',\"\").replace(',',\"\").replace('*',\"\")\n",
    "    frq = 1\n",
    "    if math.isnan(d[\"%\"][i]) == False:\n",
    "        frq = float(d[\"%\"][i])\n",
    "    if math.isnan(d[\"FTE\"][i]) == False:\n",
    "        frq = float(d[\"FTE\"][i])\n",
    "    if math.isnan(d[\"FTE.1\"][i]) == False:\n",
    "        frq = float(d[\"FTE.1\"][i])\n",
    "    if math.isnan(d[\"Time\"][i]) == False:\n",
    "        frq = float(d[\"Time\"][i])\n",
    "    if math.isnan(d[\"PAY_FRCTN\"][i]) == False:\n",
    "        frq = float(d[\"PAY_FRCTN\"][i])\n",
    "    if frq > 1:\n",
    "        d.loc[i,\"AdjSalary\"] = float(d.loc[i,\"AdjSalary\"]) / (frq/100)\n",
    "    if frq <= 1:\n",
    "        d.loc[i,\"AdjSalary\"] = float(d.loc[i,\"AdjSalary\"]) / frq"
   ]
  },
  {
   "cell_type": "markdown",
   "metadata": {},
   "source": [
    "## 3. Total number of postdocs"
   ]
  },
  {
   "cell_type": "code",
   "execution_count": 80,
   "metadata": {
    "collapsed": true
   },
   "outputs": [],
   "source": [
    "d[\"PostdocNum\"] = 0.1\n",
    "univ = list(set(d[\"Institution\"]))\n",
    "for i in range(len(univ)):\n",
    "    num = sum([1 for j in list(d[\"Institution\"]) if j==univ[i]])\n",
    "    ind = d.loc[d[\"Institution\"] == univ[i]].index\n",
    "    d.loc[ind, \"PostdocNum\"] = num"
   ]
  },
  {
   "cell_type": "markdown",
   "metadata": {},
   "source": [
    "## 4. Postdoc titles"
   ]
  },
  {
   "cell_type": "code",
   "execution_count": 81,
   "metadata": {
    "collapsed": true
   },
   "outputs": [],
   "source": [
    "#Turn 91 different titles into a handfull of defining words\n",
    "words = {'Fellow':[\"fellow\"],\n",
    "        'Associate': [\"asso\", \"aso\"],\n",
    "        'Researcher' : [\"res\",\"not_resident\"],\n",
    "         'Scholar' : [\"scholar\"],\n",
    "         'Intern' : [\"intern\"],\n",
    "         'Trainee' : [\"trainee\"],\n",
    "         'Teaching' : [\"teach\"],\n",
    "         'Senior' : [\"senior\", \"sr\"],\n",
    "         'Assistant' : [\"asst\"],\n",
    "         'Clinical' : [\"clinical\"], \n",
    "        'Assistant' : [\"asst\", \"assistant\"],\n",
    "        'Faculty' : [\"fac\"]}\n",
    "\n",
    "for word in words.keys():\n",
    "    d[word] = 0"
   ]
  },
  {
   "cell_type": "code",
   "execution_count": 82,
   "metadata": {
    "collapsed": true
   },
   "outputs": [],
   "source": [
    "import re"
   ]
  },
  {
   "cell_type": "code",
   "execution_count": 83,
   "metadata": {
    "collapsed": false
   },
   "outputs": [],
   "source": [
    "for i in range(len(d)):\n",
    "    target = d.loc[i,\"Title\"].lower()\n",
    "    for word in words.keys():\n",
    "        search_result = 0\n",
    "        if len(words[word]) == 1:\n",
    "            search_result = len(re.findall(words[word][0], target))\n",
    "        if len(words[word]) > 1:\n",
    "            if \"not_\" in words[word][1]:\n",
    "                word1 = re.sub(\"not_\",\"\",words[word][1])\n",
    "                search_result = len(re.findall(words[word][0], target)) - len(re.findall(word1, target))\n",
    "            else:\n",
    "                search_result = len(re.findall(words[word][0], target)) + len(re.findall(words[word][1], target))\n",
    "        if search_result>0:\n",
    "            d.loc[i, word] = 1"
   ]
  },
  {
   "cell_type": "markdown",
   "metadata": {},
   "source": [
    "## 5. NIH and NSF grants"
   ]
  },
  {
   "cell_type": "code",
   "execution_count": 87,
   "metadata": {
    "collapsed": false
   },
   "outputs": [
    {
     "data": {
      "text/plain": [
       "['University_FoiA', 'State', '2017_NIH', 'NIH_top', 'NSF R&D 16', 'NSF_RD_top']"
      ]
     },
     "execution_count": 87,
     "metadata": {},
     "output_type": "execute_result"
    }
   ],
   "source": [
    "univ_info = pd.read_csv(\"Univ_info.csv\")\n",
    "list(univ_info.columns.values)"
   ]
  },
  {
   "cell_type": "code",
   "execution_count": null,
   "metadata": {
    "collapsed": false
   },
   "outputs": [],
   "source": [
    "d[\"NIH_grants\"] = \"\"\n",
    "d[\"NIH_order\"] = 0\n",
    "d[\"NSF\"] = \"\"\n",
    "d[\"NSF_order\"] = 0\n",
    "for i in range(len(d)):\n",
    "    for j in range(len(univ_info)):\n",
    "        if univ_info.loc[j, \"University_FoiA\"].strip() == d.loc[i, \"Institution\"].strip():\n",
    "            d.loc[i, \"NIH_grants\"] = univ_info.loc[j, \"2017_NIH\"]\n",
    "            d.loc[i, \"NIH_order\"] = univ_info.loc[j,\"NIH_top\"]\n",
    "            d.loc[i, \"NSF\"] = univ_info.loc[j, \"NSF R&D 16\"]\n",
    "            d.loc[i, \"NSF_order\"] = univ_info.loc[j,\"NSF_RD_top\"]"
   ]
  },
  {
   "cell_type": "code",
   "execution_count": null,
   "metadata": {
    "collapsed": false
   },
   "outputs": [],
   "source": [
    "d[\"NIH_grants\"] = \"\"\n",
    "d[\"NIH_order\"] = 0\n",
    "for i in range(len(d)):\n",
    "    for j in range(len(univ_info)):\n",
    "        if univ_info.loc[j, \"University_FoiA\"].strip() == d.loc[i, \"Institution\"].strip():\n",
    "            d.loc[i, \"NIH_grants\"] = univ_info.loc[j, \"2017_NIH\"]\n",
    "            d.loc[i, \"NIH_order\"] = univ_info.loc[j,\"NIH_top\"]"
   ]
  },
  {
   "cell_type": "markdown",
   "metadata": {},
   "source": [
    "## 6. NSF R&D"
   ]
  },
  {
   "cell_type": "code",
   "execution_count": null,
   "metadata": {
    "collapsed": false
   },
   "outputs": [],
   "source": [
    "d[\"NSF\"] = \"\"\n",
    "d[\"NSF_order\"] = 0\n",
    "for i in range(len(d)):\n",
    "    for j in range(len(univ_info)):\n",
    "        if univ_info.loc[j, \"University_FoiA\"].strip() == d.loc[i, \"Institution\"].strip():\n",
    "            d.loc[i, \"NSF\"] = univ_info.loc[j, \"NSF R&D 16\"]\n",
    "            d.loc[i, \"NSF_order\"] = univ_info.loc[j,\"NSF_RD_top\"]"
   ]
  },
  {
   "cell_type": "code",
   "execution_count": null,
   "metadata": {
    "collapsed": true
   },
   "outputs": [],
   "source": [
    "list(d.columns.values)"
   ]
  },
  {
   "cell_type": "code",
   "execution_count": null,
   "metadata": {
    "collapsed": true
   },
   "outputs": [],
   "source": [
    "d.head()"
   ]
  },
  {
   "cell_type": "markdown",
   "metadata": {},
   "source": [
    "## 6. Add state"
   ]
  },
  {
   "cell_type": "code",
   "execution_count": 12,
   "metadata": {
    "collapsed": true
   },
   "outputs": [],
   "source": [
    "d[\"State\"] = \"\"\n",
    "for i in range(len(d)):\n",
    "    for j in range(len(univ_info)):\n",
    "        if univ_info.loc[j, \"University_FoiA\"].strip() == d.loc[i, \"Institution\"].strip():\n",
    "            d.loc[i, \"State\"] = univ_info.loc[j, \"State\"]"
   ]
  },
  {
   "cell_type": "markdown",
   "metadata": {},
   "source": [
    "## 7. Remove redundant fields"
   ]
  },
  {
   "cell_type": "code",
   "execution_count": 8,
   "metadata": {
    "collapsed": false
   },
   "outputs": [],
   "source": [
    "drop_cols = ['Annual Salary','FTE','APPT FTR BASIS','APPT FRACTION','AMOUNT OF SALARY PAID FROM GENERAL FUND','%',\n",
    " 'FTE.1','Time','PAY_FRCTN','Last Name','First Names','FT/PT','Contract Length','Degree','Highest Education Level',\n",
    " 'Type','Effective Date','Hire Date']   \n",
    "\n",
    "d = d.drop(drop_cols, axis=1)"
   ]
  },
  {
   "cell_type": "code",
   "execution_count": 9,
   "metadata": {
    "collapsed": false
   },
   "outputs": [
    {
     "data": {
      "text/plain": [
       "['Unnamed: 0',\n",
       " 'Institution',\n",
       " 'Title',\n",
       " 'Department',\n",
       " 'STEM',\n",
       " 'NON-STEM',\n",
       " 'Ethnea',\n",
       " 'Genni',\n",
       " 'AdjSalary',\n",
       " 'PostdocNum',\n",
       " 'Associate',\n",
       " 'Intern',\n",
       " 'Fellow',\n",
       " 'Clinical',\n",
       " 'Trainee',\n",
       " 'Researcher',\n",
       " 'Scholar',\n",
       " 'Senior',\n",
       " 'Faculty',\n",
       " 'Assistant',\n",
       " 'Teaching',\n",
       " 'NIH_grants',\n",
       " 'NIH_order',\n",
       " 'State']"
      ]
     },
     "execution_count": 9,
     "metadata": {},
     "output_type": "execute_result"
    }
   ],
   "source": [
    "#Final mega-table\n",
    "list(d.columns.values)"
   ]
  },
  {
   "cell_type": "code",
   "execution_count": 13,
   "metadata": {
    "collapsed": true
   },
   "outputs": [],
   "source": [
    " d.to_csv(\"Tables/Preprocessed_dataset.csv\")"
   ]
  }
 ],
 "metadata": {
  "anaconda-cloud": {},
  "kernelspec": {
   "display_name": "Python [Py3_env]",
   "language": "python",
   "name": "Python [Py3_env]"
  },
  "language_info": {
   "codemirror_mode": {
    "name": "ipython",
    "version": 3
   },
   "file_extension": ".py",
   "mimetype": "text/x-python",
   "name": "python",
   "nbconvert_exporter": "python",
   "pygments_lexer": "ipython3",
   "version": "3.5.2"
  }
 },
 "nbformat": 4,
 "nbformat_minor": 0
}
